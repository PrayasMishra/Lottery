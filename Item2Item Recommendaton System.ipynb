{
 "cells": [
  {
   "cell_type": "code",
   "execution_count": 2,
   "metadata": {},
   "outputs": [],
   "source": [
    "import numpy as np\n",
    "import math\n",
    "from numpy.linalg import norm"
   ]
  },
  {
   "cell_type": "code",
   "execution_count": 3,
   "metadata": {},
   "outputs": [],
   "source": [
    "def sim_cos(v1,v2):\n",
    "    assert len(v1)==len(v2), \"dimensions of vectors do not match\"\n",
    "    return np.inner(v1,v2)/(norm(v1)*norm(v2))"
   ]
  },
  {
   "cell_type": "code",
   "execution_count": 9,
   "metadata": {},
   "outputs": [],
   "source": [
    "prod_list = [i+1 for i in range(12)]\n",
    "cust_list = [i+1 for i in range(8)]\n",
    "\n",
    "item_profile_table = {1:[2, 3, 5], 2: [3, 4, 4], 3: [2, 7, 6], 4: [4, 3, 1], 5:[2, 4, 5], 6: [8, 6, 3]\n",
    "                      , 7:[1, 3, 3], 8: [6, 8, 7], 9:[9, 4, 2], 10:[1, 3, 1.5], 11:[1, 6, 3], 12: [4.5, 2, 1.25]}\n",
    "\n",
    "'''cust2prod_map shows the products bought by each customer'''\n",
    "cust2prod_map = {1:{2, 5, 7, 9, 12}, 2: {5, 7, 10}, 3:{1, 4, 6, 8}, 4:{3, 9, 11}\n",
    "                 , 5:{1, 6, 10}, 6:{3, 12}, 7:{2, 6 , 11}, 8:{1, 4, 8}}\n",
    "\n",
    "def generate_sim_item2item_table(p_list,i_prof_table,c_list,c2p_map):\n",
    "    sim_table = {}\n",
    "    for item1 in p_list:\n",
    "        sim_table_item_set = set()\n",
    "        for cu in c_list:\n",
    "            if(item1 in c2p_map[cu]):\n",
    "                sim_table_item_set = sim_table_item_set.union(c2p_map[cu])\n",
    "            sim_table_item_set = sim_table_item_set.difference({item1})\n",
    "            sim_table[item1] = [(item2, sim_cos(i_prof_table[item1],i_prof_table[item2])) for item2 in sim_table_item_set]\n",
    "            \n",
    "    return sim_table"
   ]
  },
  {
   "cell_type": "code",
   "execution_count": 10,
   "metadata": {},
   "outputs": [],
   "source": [
    "def generate_recommendations(cust,sim_table,k):\n",
    "    top_k_union = []\n",
    "    '''STEP 1'''\n",
    "    for item in cust2prod_map[cust]:\n",
    "        sim_items = sim_table[item]\n",
    "        sim_items.sort(key = lambda x:x[1], reverse = True)\n",
    "        top_k_union += sim_items[0 : min(k,len(sim_items))]\n",
    "    '''STEP 2'''\n",
    "    top_k_union.sort(key = lambda x:x[1], reverse = True)\n",
    "    items = [item[0] for item in top_k_union]\n",
    "    top_k_items = list(dict.fromkeys(items))\n",
    "    return top_k_items[0 : min(k, len(top_k_items))]"
   ]
  },
  {
   "cell_type": "code",
   "execution_count": 18,
   "metadata": {},
   "outputs": [
    {
     "name": "stdout",
     "output_type": "stream",
     "text": [
      "how many recommendations for each customer?4\n",
      "1  :  [12, 9, 7, 5]\n",
      "2  :  [7, 5, 2, 10]\n",
      "3  :  [6, 4, 1, 8]\n",
      "4  :  [12, 3, 11, 2]\n",
      "5  :  [4, 7, 8, 5]\n",
      "6  :  [9, 11, 2, 5]\n",
      "7  :  [4, 5, 3, 7]\n",
      "8  :  [6, 1, 8, 4]\n"
     ]
    }
   ],
   "source": [
    "sim_table = generate_sim_item2item_table(prod_list,item_profile_table,cust_list,cust2prod_map)\n",
    "'''k recommendations for each customer'''\n",
    "k = int(input(\"how many recommendations for each customer?\"))\n",
    "for c in cust_list:\n",
    "    print(c,\" : \",generate_recommendations(c,sim_table,k))"
   ]
  },
  {
   "cell_type": "code",
   "execution_count": null,
   "metadata": {},
   "outputs": [],
   "source": []
  },
  {
   "cell_type": "code",
   "execution_count": null,
   "metadata": {},
   "outputs": [],
   "source": []
  }
 ],
 "metadata": {
  "kernelspec": {
   "display_name": "Python 3",
   "language": "python",
   "name": "python3"
  },
  "language_info": {
   "codemirror_mode": {
    "name": "ipython",
    "version": 3
   },
   "file_extension": ".py",
   "mimetype": "text/x-python",
   "name": "python",
   "nbconvert_exporter": "python",
   "pygments_lexer": "ipython3",
   "version": "3.7.3"
  }
 },
 "nbformat": 4,
 "nbformat_minor": 2
}
